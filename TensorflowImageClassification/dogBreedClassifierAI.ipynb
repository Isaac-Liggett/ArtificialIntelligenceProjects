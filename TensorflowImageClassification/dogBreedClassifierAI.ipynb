{
 "cells": [
  {
   "cell_type": "markdown",
   "id": "dafc3d6e",
   "metadata": {},
   "source": [
    "# Dog Breed Classifier Network Using Tensorflow\n",
    "\n",
    "This is a demonstration of my learnings in artificial intelligence specifically deep learning. Following on from my project about building a supervised deep learning model from scratch, I now have further insight into the processes of a machine learning system whereby I belive it is fitting to now move on to a more efficient and conventient library for training models.\n",
    "\n",
    "This model will be used to differentiate and classify 120 different breeds of dogs using a dataset found from http://vision.stanford.edu/aditya86/ImageNetDogs/ which has about 20,000 images. The breeds classified are:\n",
    "\n",
    "|                                |                          |                             |                    |                             |                           |                             |\n",
    "| ------------------------------ | ------------------------ | --------------------------- | ------------------ | --------------------------- | ------------------------- | --------------------------- |\n",
    "| Afghan_hound                   | Bouvier_des_Flandres     | Eskimo_dog                  | Irish_wolfhound    | Norwegian_elkhound          | Scottish_deerhound        | West_Highland_white_terrier |\n",
    "| African_hunting_dog            | Brabancon_griffon        | French_bulldog              | Italian_greyhound  | Norwich_terrier             | Sealyham_terrier          | Yorkshire_terrier           |\n",
    "| Airedale                       | Brittany_spaniel         | German_shepherd             | Japanese_spaniel   | Old_English_sheepdog        | Shetland_sheepdog         | affenpinscher               |\n",
    "| American_Staffordshire_terrier | Cardigan                 | German_short-haired_pointer | Kerry_blue_terrier | Pekinese                    | Shih-Tzu                  | basenji                     |\n",
    "| Appenzeller                    | Chesapeake_Bay_retriever | Gordon_setter               | Labrador_retriever | Pembroke                    | Siberian_husky            | basset                      |\n",
    "| Australian_terrier             | Chihuahua                | Great_Dane                  | Lakeland_terrier   | Pomeranian                  | Staffordshire_bullterrier | beagle                      |\n",
    "| Bedlington_terrier             | Dandie_Dinmont           | Great_Pyrenees              | Leonberg           | Rhodesian_ridgeback         | Sussex_spaniel            | black-and-tan_coonhound     |\n",
    "| Bernese_mountain_dog           | Doberman                 | Greater_Swiss_Mountain_dog  | Lhasa              | Rottweiler                  | Tibetan_mastiff           | bloodhound                  |\n",
    "| Blenheim_spaniel               | English_foxhound         | Ibizan_hound                | Maltese_dog        | Saint_Bernard               | Tibetan_terrier           | bluetick                    |\n",
    "| Border_collie                  | English_setter           | Irish_setter                | Mexican_hairless   | Saluki                      | Walker_hound              | borzoi                      |\n",
    "| Border_terrier                 | English_springer         | Irish_terrier               | Newfoundland       | Samoyed                     | Weimaraner                | boxer                       |\n",
    "| Boston_bull                    | EntleBucher              | Irish_water_spaniel         | Norfolk_terrier    | Scotch_terrier              | Welsh_springer_spaniel    | briard                      |\n",
    "| pug                            | redbone                  | schipperke                  | silky_terrier      | soft-coated_wheaten_terrier | miniature_schnauzer       | standard_poodle             |\n",
    "| toy_poodle                     | toy_terrier              | vizsla                      | whippet            | wire-haired_fox_terrier     | chow                      | groenendael                 |\n",
    "| kelpie                         | komondor                 | kuvasz                      | malamute           | malinois                    | dingo                     | keeshond                    |\n",
    "| papillon                       | pinscher                 | poodle                      | bull_mastiff       | cairn                       | clumber                   | otterhound                  |\n",
    "| cocker_spaniel                 | collie                   | curly-coated_retriever      | golden_retriever   | dhole                       | flat-coated_retriever     | standard_schnauzer          |\n",
    "| giant_schnauzer                |                          |                             |                    |                             |                           |                             |"
   ]
  },
  {
   "cell_type": "markdown",
   "id": "4e06db8c",
   "metadata": {},
   "source": [
    "# Initial imports and initializations"
   ]
  },
  {
   "cell_type": "code",
   "execution_count": 1,
   "id": "ce098ddd",
   "metadata": {},
   "outputs": [],
   "source": [
    "import tensorflow as tf\n",
    "import numpy as np\n",
    "import PIL.Image as Image\n",
    "import tensorflow as tf\n",
    "import tensorflow_hub as hub\n",
    "import matplotlib.pyplot as plt\n",
    "import datetime"
   ]
  },
  {
   "cell_type": "code",
   "execution_count": 2,
   "id": "c4d71679",
   "metadata": {},
   "outputs": [],
   "source": [
    "%load_ext tensorboard"
   ]
  },
  {
   "cell_type": "code",
   "execution_count": 3,
   "id": "2f008fb7",
   "metadata": {},
   "outputs": [
    {
     "name": "stdout",
     "output_type": "stream",
     "text": [
      "Default GPU Device: /device:GPU:0\n"
     ]
    },
    {
     "data": {
      "text/plain": [
       "[PhysicalDevice(name='/physical_device:GPU:0', device_type='GPU')]"
      ]
     },
     "execution_count": 3,
     "metadata": {},
     "output_type": "execute_result"
    }
   ],
   "source": [
    "if not tf.test.gpu_device_name():\n",
    "    print(\"no GPU found.\")\n",
    "else:\n",
    "    print('Default GPU Device: {}'.format(tf.test.gpu_device_name()))\n",
    "\n",
    "tf.config.list_physical_devices('GPU') # this is the newer way"
   ]
  },
  {
   "cell_type": "markdown",
   "id": "4f86df8c",
   "metadata": {},
   "source": [
    "# Preparing the image dataset"
   ]
  },
  {
   "cell_type": "markdown",
   "id": "7da6e510",
   "metadata": {},
   "source": [
    "The Images are all of different sizes as they appear to have been webscraped from the internet. Tensorflow has some inbuilt image manipulation 'layers' which resize normalise the images to prepare them for training. This is incorporated into the model  \n",
    "\n",
    "The images are also loaded into a tensorflow dataset object. This makes training easier because the image_dataset_from_directory function easily references and labels each image for the full dataset. Batches can also be defined to prevent exceeding memory limitations."
   ]
  },
  {
   "cell_type": "code",
   "execution_count": 4,
   "id": "8e2b370d",
   "metadata": {},
   "outputs": [],
   "source": [
    "BATCH_SIZE = 100"
   ]
  },
  {
   "cell_type": "code",
   "execution_count": 5,
   "id": "806b4557",
   "metadata": {},
   "outputs": [],
   "source": [
    "prepare_image = tf.keras.Sequential([\n",
    "    tf.keras.layers.Resizing(224, 224, interpolation=\"bilinear\", crop_to_aspect_ratio=False), #The images are resized to 224 x 224 pixels as corresponding to the training input size parameters\n",
    "    tf.keras.layers.Rescaling(scale=1./255) # The rgb pixel data from each image is scaled to between 0 and 1\n",
    "])"
   ]
  },
  {
   "cell_type": "code",
   "execution_count": 6,
   "id": "03de3e17",
   "metadata": {},
   "outputs": [
    {
     "name": "stdout",
     "output_type": "stream",
     "text": [
      "Found 20339 files belonging to 120 classes.\n"
     ]
    }
   ],
   "source": [
    "image_ds = tf.keras.utils.image_dataset_from_directory(\"./imagedataset/120breeds_dataset/\", shuffle=True, labels='inferred', batch_size=BATCH_SIZE)\n",
    "\n",
    "train_split = 0.8                          # The dataset is separated into testing and training data by an 80:20 split\n",
    "training_size = np.ceil(len(image_ds)*0.8)\n",
    "\n",
    "train_ds = image_ds.take(training_size) # Training dataset for the model to learn to differentiate\n",
    "test_ds = image_ds.skip(training_size) # Testing dataset for unseen images to test the accuracy of the model"
   ]
  },
  {
   "cell_type": "markdown",
   "id": "330a0e99",
   "metadata": {},
   "source": [
    "# Training the model\n",
    "\n",
    "This model will be trained using a method called Transfer Learning. Transfer Learning is where I use a preexisting model and either add to or modify it for training to solve the problem. This learning approach is optimal for the tools and constraints for this project which is low computing resources (Home Computer with old GPU - GTX 1060) and time constraints. \n",
    "\n",
    "I have gotten a model from TensorflowHub which is a database of pretrained AI models supplied by Google for transfer learning and other implementations. This specific model is a feature vector model which essentially analyses an image and extracts the vital features out of it. I have then added another layer connecting to this pretrained feature vector network which has 120 outputs corresponding to the 120 different dog breeds being classified. "
   ]
  },
  {
   "cell_type": "code",
   "execution_count": 7,
   "id": "28e7dc39",
   "metadata": {},
   "outputs": [
    {
     "name": "stdout",
     "output_type": "stream",
     "text": [
      "WARNING:tensorflow:Please fix your imports. Module tensorflow.python.training.tracking.data_structures has been moved to tensorflow.python.trackable.data_structures. The old module will be deleted in version 2.11.\n"
     ]
    }
   ],
   "source": [
    "IMAGE_SIZE = (224, 224)\n",
    "classifier = tf.keras.Sequential([\n",
    "    prepare_image, # This is the image manipulation layer created earlier\n",
    "    hub.KerasLayer(\"https://tfhub.dev/google/imagenet/mobilenet_v1_100_224/feature_vector/5\", trainable=False, arguments=dict(batch_norm_momentum=0.997)),\n",
    "    tf.keras.layers.Dense(120, activation=\"softmax\"), # Softmax activation function maps the outputs to probabilities so that\n",
    "])                                                    # the highest probability output is the most likely classification\n",
    "\n",
    "classifier.compile(optimizer=\"SGD\", loss=\"sparse_categorical_crossentropy\", metrics=['accuracy'])"
   ]
  },
  {
   "cell_type": "code",
   "execution_count": 8,
   "id": "52ad3601",
   "metadata": {
    "scrolled": false
   },
   "outputs": [],
   "source": [
    "# Checkpoint saving callback to save the model after each epoch \n",
    "checkpoint_path = \"./training_cp/checkpoint.ckpt\"\n",
    "cp_callback = tf.keras.callbacks.ModelCheckpoint(checkpoint_path, save_weights_only=True, verbose=1) \n",
    "\n",
    "# Tensorboard callback to save data for analysis using Tensorboard API - https://www.tensorflow.org/tensorboard/get_started\n",
    "log_dir = \"logs/fit/\" + datetime.datetime.now().strftime(\"%Y%m%d-%H%M%S\")\n",
    "tensorboard_callback = tf.keras.callbacks.TensorBoard(log_dir=log_dir, histogram_freq=1)"
   ]
  },
  {
   "cell_type": "code",
   "execution_count": 9,
   "id": "1b0d15ec",
   "metadata": {},
   "outputs": [
    {
     "name": "stdout",
     "output_type": "stream",
     "text": [
      "Epoch 1/100\n",
      "164/164 [==============================] - ETA: 0s - loss: 4.4604 - accuracy: 0.0746\n",
      "Epoch 1: saving model to ./training_cp\\checkpoint.ckpt\n",
      "164/164 [==============================] - 53s 292ms/step - loss: 4.4604 - accuracy: 0.0746 - val_loss: 3.6992 - val_accuracy: 0.1924\n",
      "Epoch 2/100\n",
      "164/164 [==============================] - ETA: 0s - loss: 3.1618 - accuracy: 0.2971\n",
      "Epoch 2: saving model to ./training_cp\\checkpoint.ckpt\n",
      "164/164 [==============================] - 47s 286ms/step - loss: 3.1618 - accuracy: 0.2971 - val_loss: 2.7792 - val_accuracy: 0.3897\n",
      "Epoch 3/100\n",
      "164/164 [==============================] - ETA: 0s - loss: 2.4184 - accuracy: 0.4673\n",
      "Epoch 3: saving model to ./training_cp\\checkpoint.ckpt\n",
      "164/164 [==============================] - 48s 288ms/step - loss: 2.4184 - accuracy: 0.4673 - val_loss: 2.2206 - val_accuracy: 0.5123\n",
      "Epoch 4/100\n",
      "164/164 [==============================] - ETA: 0s - loss: 1.9666 - accuracy: 0.5636\n",
      "Epoch 4: saving model to ./training_cp\\checkpoint.ckpt\n",
      "164/164 [==============================] - 48s 290ms/step - loss: 1.9666 - accuracy: 0.5636 - val_loss: 1.8748 - val_accuracy: 0.5786\n",
      "Epoch 5/100\n",
      "164/164 [==============================] - ETA: 0s - loss: 1.6780 - accuracy: 0.6234\n",
      "Epoch 5: saving model to ./training_cp\\checkpoint.ckpt\n",
      "164/164 [==============================] - 48s 291ms/step - loss: 1.6780 - accuracy: 0.6234 - val_loss: 1.6627 - val_accuracy: 0.6212\n",
      "Epoch 6/100\n",
      "164/164 [==============================] - ETA: 0s - loss: 1.4819 - accuracy: 0.6633\n",
      "Epoch 6: saving model to ./training_cp\\checkpoint.ckpt\n",
      "164/164 [==============================] - 49s 294ms/step - loss: 1.4819 - accuracy: 0.6633 - val_loss: 1.5145 - val_accuracy: 0.6491\n",
      "Epoch 7/100\n",
      "164/164 [==============================] - ETA: 0s - loss: 1.3386 - accuracy: 0.6951\n",
      "Epoch 7: saving model to ./training_cp\\checkpoint.ckpt\n",
      "164/164 [==============================] - 48s 292ms/step - loss: 1.3386 - accuracy: 0.6951 - val_loss: 1.4026 - val_accuracy: 0.6596\n",
      "Epoch 8/100\n",
      "164/164 [==============================] - ETA: 0s - loss: 1.2311 - accuracy: 0.7171\n",
      "Epoch 8: saving model to ./training_cp\\checkpoint.ckpt\n",
      "164/164 [==============================] - 48s 293ms/step - loss: 1.2311 - accuracy: 0.7171 - val_loss: 1.3118 - val_accuracy: 0.6776\n",
      "Epoch 9/100\n",
      "164/164 [==============================] - ETA: 0s - loss: 1.1460 - accuracy: 0.7343\n",
      "Epoch 9: saving model to ./training_cp\\checkpoint.ckpt\n",
      "164/164 [==============================] - 49s 294ms/step - loss: 1.1460 - accuracy: 0.7343 - val_loss: 1.2316 - val_accuracy: 0.6936\n",
      "Epoch 10/100\n",
      "164/164 [==============================] - ETA: 0s - loss: 1.0764 - accuracy: 0.7487\n",
      "Epoch 10: saving model to ./training_cp\\checkpoint.ckpt\n",
      "164/164 [==============================] - 48s 293ms/step - loss: 1.0764 - accuracy: 0.7487 - val_loss: 1.1871 - val_accuracy: 0.7050\n",
      "Epoch 11/100\n",
      "164/164 [==============================] - ETA: 0s - loss: 1.0153 - accuracy: 0.7618\n",
      "Epoch 11: saving model to ./training_cp\\checkpoint.ckpt\n",
      "164/164 [==============================] - 49s 295ms/step - loss: 1.0153 - accuracy: 0.7618 - val_loss: 1.1376 - val_accuracy: 0.7169\n",
      "Epoch 12/100\n",
      "164/164 [==============================] - ETA: 0s - loss: 0.9680 - accuracy: 0.7707\n",
      "Epoch 12: saving model to ./training_cp\\checkpoint.ckpt\n",
      "164/164 [==============================] - 49s 294ms/step - loss: 0.9680 - accuracy: 0.7707 - val_loss: 1.0991 - val_accuracy: 0.7263\n",
      "Epoch 13/100\n",
      "164/164 [==============================] - ETA: 0s - loss: 0.9211 - accuracy: 0.7820\n",
      "Epoch 13: saving model to ./training_cp\\checkpoint.ckpt\n",
      "164/164 [==============================] - 49s 295ms/step - loss: 0.9211 - accuracy: 0.7820 - val_loss: 1.0669 - val_accuracy: 0.7301\n",
      "Epoch 14/100\n",
      "164/164 [==============================] - ETA: 0s - loss: 0.8840 - accuracy: 0.7899\n",
      "Epoch 14: saving model to ./training_cp\\checkpoint.ckpt\n",
      "164/164 [==============================] - 48s 292ms/step - loss: 0.8840 - accuracy: 0.7899 - val_loss: 1.0493 - val_accuracy: 0.7334\n",
      "Epoch 15/100\n",
      "164/164 [==============================] - ETA: 0s - loss: 0.8517 - accuracy: 0.7982\n",
      "Epoch 15: saving model to ./training_cp\\checkpoint.ckpt\n",
      "164/164 [==============================] - 48s 293ms/step - loss: 0.8517 - accuracy: 0.7982 - val_loss: 1.0062 - val_accuracy: 0.7416\n",
      "Epoch 16/100\n",
      "164/164 [==============================] - ETA: 0s - loss: 0.8214 - accuracy: 0.8046\n",
      "Epoch 16: saving model to ./training_cp\\checkpoint.ckpt\n",
      "164/164 [==============================] - 48s 292ms/step - loss: 0.8214 - accuracy: 0.8046 - val_loss: 0.9921 - val_accuracy: 0.7431\n",
      "Epoch 17/100\n",
      "164/164 [==============================] - ETA: 0s - loss: 0.7967 - accuracy: 0.8099\n",
      "Epoch 17: saving model to ./training_cp\\checkpoint.ckpt\n",
      "164/164 [==============================] - 48s 292ms/step - loss: 0.7967 - accuracy: 0.8099 - val_loss: 0.9672 - val_accuracy: 0.7487\n",
      "Epoch 18/100\n",
      "164/164 [==============================] - ETA: 0s - loss: 0.7705 - accuracy: 0.8174\n",
      "Epoch 18: saving model to ./training_cp\\checkpoint.ckpt\n",
      "164/164 [==============================] - 48s 293ms/step - loss: 0.7705 - accuracy: 0.8174 - val_loss: 0.9472 - val_accuracy: 0.7510\n",
      "Epoch 19/100\n",
      "164/164 [==============================] - ETA: 0s - loss: 0.7460 - accuracy: 0.8216\n",
      "Epoch 19: saving model to ./training_cp\\checkpoint.ckpt\n",
      "164/164 [==============================] - 48s 292ms/step - loss: 0.7460 - accuracy: 0.8216 - val_loss: 0.9315 - val_accuracy: 0.7545\n",
      "Epoch 20/100\n",
      "164/164 [==============================] - ETA: 0s - loss: 0.7250 - accuracy: 0.8299\n",
      "Epoch 20: saving model to ./training_cp\\checkpoint.ckpt\n",
      "164/164 [==============================] - 48s 292ms/step - loss: 0.7250 - accuracy: 0.8299 - val_loss: 0.9164 - val_accuracy: 0.7621\n",
      "Epoch 21/100\n",
      "164/164 [==============================] - ETA: 0s - loss: 0.7063 - accuracy: 0.8321\n",
      "Epoch 21: saving model to ./training_cp\\checkpoint.ckpt\n",
      "164/164 [==============================] - 48s 292ms/step - loss: 0.7063 - accuracy: 0.8321 - val_loss: 0.9060 - val_accuracy: 0.7634\n",
      "Epoch 22/100\n",
      "164/164 [==============================] - ETA: 0s - loss: 0.6879 - accuracy: 0.8384\n",
      "Epoch 22: saving model to ./training_cp\\checkpoint.ckpt\n",
      "164/164 [==============================] - 49s 295ms/step - loss: 0.6879 - accuracy: 0.8384 - val_loss: 0.8962 - val_accuracy: 0.7621\n",
      "Epoch 23/100\n",
      "164/164 [==============================] - ETA: 0s - loss: 0.6719 - accuracy: 0.8423\n",
      "Epoch 23: saving model to ./training_cp\\checkpoint.ckpt\n",
      "164/164 [==============================] - 50s 301ms/step - loss: 0.6719 - accuracy: 0.8423 - val_loss: 0.8880 - val_accuracy: 0.7647\n",
      "Epoch 24/100\n",
      "164/164 [==============================] - ETA: 0s - loss: 0.6563 - accuracy: 0.8448\n",
      "Epoch 24: saving model to ./training_cp\\checkpoint.ckpt\n",
      "164/164 [==============================] - 49s 296ms/step - loss: 0.6563 - accuracy: 0.8448 - val_loss: 0.8711 - val_accuracy: 0.7669\n",
      "Epoch 25/100\n",
      "164/164 [==============================] - ETA: 0s - loss: 0.6401 - accuracy: 0.8504\n",
      "Epoch 25: saving model to ./training_cp\\checkpoint.ckpt\n",
      "164/164 [==============================] - 49s 296ms/step - loss: 0.6401 - accuracy: 0.8504 - val_loss: 0.8644 - val_accuracy: 0.7672\n",
      "Epoch 26/100\n",
      "164/164 [==============================] - ETA: 0s - loss: 0.6280 - accuracy: 0.8542\n",
      "Epoch 26: saving model to ./training_cp\\checkpoint.ckpt\n",
      "164/164 [==============================] - 49s 297ms/step - loss: 0.6280 - accuracy: 0.8542 - val_loss: 0.8510 - val_accuracy: 0.7715\n",
      "Epoch 27/100\n",
      "164/164 [==============================] - ETA: 0s - loss: 0.6148 - accuracy: 0.8578\n",
      "Epoch 27: saving model to ./training_cp\\checkpoint.ckpt\n",
      "164/164 [==============================] - 49s 296ms/step - loss: 0.6148 - accuracy: 0.8578 - val_loss: 0.8486 - val_accuracy: 0.7697\n",
      "Epoch 28/100\n",
      "164/164 [==============================] - ETA: 0s - loss: 0.6012 - accuracy: 0.8620\n",
      "Epoch 28: saving model to ./training_cp\\checkpoint.ckpt\n",
      "164/164 [==============================] - 49s 297ms/step - loss: 0.6012 - accuracy: 0.8620 - val_loss: 0.8278 - val_accuracy: 0.7728\n",
      "Epoch 29/100\n",
      "164/164 [==============================] - ETA: 0s - loss: 0.5894 - accuracy: 0.8649\n",
      "Epoch 29: saving model to ./training_cp\\checkpoint.ckpt\n"
     ]
    },
    {
     "name": "stdout",
     "output_type": "stream",
     "text": [
      "164/164 [==============================] - 49s 297ms/step - loss: 0.5894 - accuracy: 0.8649 - val_loss: 0.8218 - val_accuracy: 0.7730\n",
      "Epoch 30/100\n",
      "164/164 [==============================] - ETA: 0s - loss: 0.5801 - accuracy: 0.8664\n",
      "Epoch 30: saving model to ./training_cp\\checkpoint.ckpt\n",
      "164/164 [==============================] - 50s 300ms/step - loss: 0.5801 - accuracy: 0.8664 - val_loss: 0.8161 - val_accuracy: 0.7774\n",
      "Epoch 31/100\n",
      "164/164 [==============================] - ETA: 0s - loss: 0.5680 - accuracy: 0.8685\n",
      "Epoch 31: saving model to ./training_cp\\checkpoint.ckpt\n",
      "164/164 [==============================] - 49s 297ms/step - loss: 0.5680 - accuracy: 0.8685 - val_loss: 0.8177 - val_accuracy: 0.7735\n",
      "Epoch 32/100\n",
      "164/164 [==============================] - ETA: 0s - loss: 0.5565 - accuracy: 0.8723\n",
      "Epoch 32: saving model to ./training_cp\\checkpoint.ckpt\n",
      "164/164 [==============================] - 49s 298ms/step - loss: 0.5565 - accuracy: 0.8723 - val_loss: 0.8022 - val_accuracy: 0.7758\n",
      "Epoch 33/100\n",
      "164/164 [==============================] - ETA: 0s - loss: 0.5478 - accuracy: 0.8735\n",
      "Epoch 33: saving model to ./training_cp\\checkpoint.ckpt\n",
      "164/164 [==============================] - 49s 296ms/step - loss: 0.5478 - accuracy: 0.8735 - val_loss: 0.7966 - val_accuracy: 0.7814\n",
      "Epoch 34/100\n",
      "164/164 [==============================] - ETA: 0s - loss: 0.5371 - accuracy: 0.8781\n",
      "Epoch 34: saving model to ./training_cp\\checkpoint.ckpt\n",
      "164/164 [==============================] - 49s 297ms/step - loss: 0.5371 - accuracy: 0.8781 - val_loss: 0.7880 - val_accuracy: 0.7814\n",
      "Epoch 35/100\n",
      "164/164 [==============================] - ETA: 0s - loss: 0.5283 - accuracy: 0.8804\n",
      "Epoch 35: saving model to ./training_cp\\checkpoint.ckpt\n",
      "164/164 [==============================] - 49s 297ms/step - loss: 0.5283 - accuracy: 0.8804 - val_loss: 0.7852 - val_accuracy: 0.7809\n",
      "Epoch 36/100\n",
      "164/164 [==============================] - ETA: 0s - loss: 0.5198 - accuracy: 0.8821\n",
      "Epoch 36: saving model to ./training_cp\\checkpoint.ckpt\n",
      "164/164 [==============================] - 49s 297ms/step - loss: 0.5198 - accuracy: 0.8821 - val_loss: 0.7880 - val_accuracy: 0.7784\n",
      "Epoch 37/100\n",
      "164/164 [==============================] - ETA: 0s - loss: 0.5125 - accuracy: 0.8846\n",
      "Epoch 37: saving model to ./training_cp\\checkpoint.ckpt\n",
      "164/164 [==============================] - 49s 298ms/step - loss: 0.5125 - accuracy: 0.8846 - val_loss: 0.7798 - val_accuracy: 0.7832\n",
      "Epoch 38/100\n",
      "164/164 [==============================] - ETA: 0s - loss: 0.5018 - accuracy: 0.8877\n",
      "Epoch 38: saving model to ./training_cp\\checkpoint.ckpt\n",
      "164/164 [==============================] - 49s 299ms/step - loss: 0.5018 - accuracy: 0.8877 - val_loss: 0.7717 - val_accuracy: 0.7829\n",
      "Epoch 39/100\n",
      "164/164 [==============================] - ETA: 0s - loss: 0.4947 - accuracy: 0.8888\n",
      "Epoch 39: saving model to ./training_cp\\checkpoint.ckpt\n",
      "164/164 [==============================] - 49s 298ms/step - loss: 0.4947 - accuracy: 0.8888 - val_loss: 0.7726 - val_accuracy: 0.7827\n",
      "Epoch 40/100\n",
      "164/164 [==============================] - ETA: 0s - loss: 0.4853 - accuracy: 0.8918\n",
      "Epoch 40: saving model to ./training_cp\\checkpoint.ckpt\n",
      "164/164 [==============================] - 49s 298ms/step - loss: 0.4853 - accuracy: 0.8918 - val_loss: 0.7690 - val_accuracy: 0.7829\n",
      "Epoch 41/100\n",
      "164/164 [==============================] - ETA: 0s - loss: 0.4788 - accuracy: 0.8943\n",
      "Epoch 41: saving model to ./training_cp\\checkpoint.ckpt\n",
      "164/164 [==============================] - 49s 298ms/step - loss: 0.4788 - accuracy: 0.8943 - val_loss: 0.7573 - val_accuracy: 0.7840\n",
      "Epoch 42/100\n",
      "164/164 [==============================] - ETA: 0s - loss: 0.4739 - accuracy: 0.8954\n",
      "Epoch 42: saving model to ./training_cp\\checkpoint.ckpt\n",
      "164/164 [==============================] - 49s 298ms/step - loss: 0.4739 - accuracy: 0.8954 - val_loss: 0.7595 - val_accuracy: 0.7822\n",
      "Epoch 43/100\n",
      "164/164 [==============================] - ETA: 0s - loss: 0.4662 - accuracy: 0.8979\n",
      "Epoch 43: saving model to ./training_cp\\checkpoint.ckpt\n",
      "164/164 [==============================] - 49s 297ms/step - loss: 0.4662 - accuracy: 0.8979 - val_loss: 0.7524 - val_accuracy: 0.7880\n",
      "Epoch 44/100\n",
      "164/164 [==============================] - ETA: 0s - loss: 0.4611 - accuracy: 0.8995\n",
      "Epoch 44: saving model to ./training_cp\\checkpoint.ckpt\n",
      "164/164 [==============================] - 49s 298ms/step - loss: 0.4611 - accuracy: 0.8995 - val_loss: 0.7523 - val_accuracy: 0.7865\n",
      "Epoch 45/100\n",
      "164/164 [==============================] - ETA: 0s - loss: 0.4543 - accuracy: 0.9025\n",
      "Epoch 45: saving model to ./training_cp\\checkpoint.ckpt\n",
      "164/164 [==============================] - 49s 298ms/step - loss: 0.4543 - accuracy: 0.9025 - val_loss: 0.7465 - val_accuracy: 0.7865\n",
      "Epoch 46/100\n",
      "164/164 [==============================] - ETA: 0s - loss: 0.4462 - accuracy: 0.9054\n",
      "Epoch 46: saving model to ./training_cp\\checkpoint.ckpt\n",
      "164/164 [==============================] - 49s 298ms/step - loss: 0.4462 - accuracy: 0.9054 - val_loss: 0.7398 - val_accuracy: 0.7906\n",
      "Epoch 47/100\n",
      "164/164 [==============================] - ETA: 0s - loss: 0.4396 - accuracy: 0.9065\n",
      "Epoch 47: saving model to ./training_cp\\checkpoint.ckpt\n",
      "164/164 [==============================] - 49s 299ms/step - loss: 0.4396 - accuracy: 0.9065 - val_loss: 0.7415 - val_accuracy: 0.7906\n",
      "Epoch 48/100\n",
      "164/164 [==============================] - ETA: 0s - loss: 0.4356 - accuracy: 0.9085\n",
      "Epoch 48: saving model to ./training_cp\\checkpoint.ckpt\n",
      "164/164 [==============================] - 49s 298ms/step - loss: 0.4356 - accuracy: 0.9085 - val_loss: 0.7419 - val_accuracy: 0.7908\n",
      "Epoch 49/100\n",
      "164/164 [==============================] - ETA: 0s - loss: 0.4293 - accuracy: 0.9114\n",
      "Epoch 49: saving model to ./training_cp\\checkpoint.ckpt\n",
      "164/164 [==============================] - 49s 297ms/step - loss: 0.4293 - accuracy: 0.9114 - val_loss: 0.7331 - val_accuracy: 0.7913\n",
      "Epoch 50/100\n",
      "164/164 [==============================] - ETA: 0s - loss: 0.4242 - accuracy: 0.9110\n",
      "Epoch 50: saving model to ./training_cp\\checkpoint.ckpt\n",
      "164/164 [==============================] - 49s 298ms/step - loss: 0.4242 - accuracy: 0.9110 - val_loss: 0.7273 - val_accuracy: 0.7906\n",
      "Epoch 51/100\n",
      "164/164 [==============================] - ETA: 0s - loss: 0.4190 - accuracy: 0.9131\n",
      "Epoch 51: saving model to ./training_cp\\checkpoint.ckpt\n",
      "164/164 [==============================] - 49s 298ms/step - loss: 0.4190 - accuracy: 0.9131 - val_loss: 0.7256 - val_accuracy: 0.7926\n",
      "Epoch 52/100\n",
      "164/164 [==============================] - ETA: 0s - loss: 0.4133 - accuracy: 0.9149\n",
      "Epoch 52: saving model to ./training_cp\\checkpoint.ckpt\n",
      "164/164 [==============================] - 49s 299ms/step - loss: 0.4133 - accuracy: 0.9149 - val_loss: 0.7242 - val_accuracy: 0.7913\n",
      "Epoch 53/100\n",
      "164/164 [==============================] - ETA: 0s - loss: 0.4072 - accuracy: 0.9170\n",
      "Epoch 53: saving model to ./training_cp\\checkpoint.ckpt\n",
      "164/164 [==============================] - 49s 297ms/step - loss: 0.4072 - accuracy: 0.9170 - val_loss: 0.7161 - val_accuracy: 0.7974\n",
      "Epoch 54/100\n",
      "164/164 [==============================] - ETA: 0s - loss: 0.4012 - accuracy: 0.9201\n",
      "Epoch 54: saving model to ./training_cp\\checkpoint.ckpt\n",
      "164/164 [==============================] - 49s 298ms/step - loss: 0.4012 - accuracy: 0.9201 - val_loss: 0.7225 - val_accuracy: 0.7893\n",
      "Epoch 55/100\n",
      "164/164 [==============================] - ETA: 0s - loss: 0.3970 - accuracy: 0.9215\n",
      "Epoch 55: saving model to ./training_cp\\checkpoint.ckpt\n",
      "164/164 [==============================] - 49s 297ms/step - loss: 0.3970 - accuracy: 0.9215 - val_loss: 0.7146 - val_accuracy: 0.7936\n",
      "Epoch 56/100\n",
      "164/164 [==============================] - ETA: 0s - loss: 0.3926 - accuracy: 0.9227\n",
      "Epoch 56: saving model to ./training_cp\\checkpoint.ckpt\n",
      "164/164 [==============================] - 49s 299ms/step - loss: 0.3926 - accuracy: 0.9227 - val_loss: 0.7126 - val_accuracy: 0.7977\n",
      "Epoch 57/100\n",
      "164/164 [==============================] - ETA: 0s - loss: 0.3876 - accuracy: 0.9235\n",
      "Epoch 57: saving model to ./training_cp\\checkpoint.ckpt\n",
      "164/164 [==============================] - 49s 298ms/step - loss: 0.3876 - accuracy: 0.9235 - val_loss: 0.7110 - val_accuracy: 0.7936\n"
     ]
    },
    {
     "name": "stdout",
     "output_type": "stream",
     "text": [
      "Epoch 58/100\n",
      "164/164 [==============================] - ETA: 0s - loss: 0.3845 - accuracy: 0.9250\n",
      "Epoch 58: saving model to ./training_cp\\checkpoint.ckpt\n",
      "164/164 [==============================] - 49s 298ms/step - loss: 0.3845 - accuracy: 0.9250 - val_loss: 0.7083 - val_accuracy: 0.7944\n",
      "Epoch 59/100\n",
      "164/164 [==============================] - ETA: 0s - loss: 0.3787 - accuracy: 0.9265\n",
      "Epoch 59: saving model to ./training_cp\\checkpoint.ckpt\n",
      "164/164 [==============================] - 49s 298ms/step - loss: 0.3787 - accuracy: 0.9265 - val_loss: 0.7060 - val_accuracy: 0.7994\n",
      "Epoch 60/100\n",
      "164/164 [==============================] - ETA: 0s - loss: 0.3755 - accuracy: 0.9272\n",
      "Epoch 60: saving model to ./training_cp\\checkpoint.ckpt\n",
      "164/164 [==============================] - 49s 297ms/step - loss: 0.3755 - accuracy: 0.9272 - val_loss: 0.7080 - val_accuracy: 0.7913\n",
      "Epoch 61/100\n",
      "164/164 [==============================] - ETA: 0s - loss: 0.3703 - accuracy: 0.9281\n",
      "Epoch 61: saving model to ./training_cp\\checkpoint.ckpt\n",
      "164/164 [==============================] - 49s 298ms/step - loss: 0.3703 - accuracy: 0.9281 - val_loss: 0.7054 - val_accuracy: 0.7982\n",
      "Epoch 62/100\n",
      "164/164 [==============================] - ETA: 0s - loss: 0.3667 - accuracy: 0.9307\n",
      "Epoch 62: saving model to ./training_cp\\checkpoint.ckpt\n",
      "164/164 [==============================] - 50s 299ms/step - loss: 0.3667 - accuracy: 0.9307 - val_loss: 0.6991 - val_accuracy: 0.7977\n",
      "Epoch 63/100\n",
      "164/164 [==============================] - ETA: 0s - loss: 0.3622 - accuracy: 0.9311\n",
      "Epoch 63: saving model to ./training_cp\\checkpoint.ckpt\n",
      "164/164 [==============================] - 49s 299ms/step - loss: 0.3622 - accuracy: 0.9311 - val_loss: 0.7089 - val_accuracy: 0.7951\n",
      "Epoch 64/100\n",
      "164/164 [==============================] - ETA: 0s - loss: 0.3577 - accuracy: 0.9334\n",
      "Epoch 64: saving model to ./training_cp\\checkpoint.ckpt\n",
      "164/164 [==============================] - 49s 299ms/step - loss: 0.3577 - accuracy: 0.9334 - val_loss: 0.7030 - val_accuracy: 0.7956\n",
      "Epoch 65/100\n",
      "164/164 [==============================] - ETA: 0s - loss: 0.3553 - accuracy: 0.9331\n",
      "Epoch 65: saving model to ./training_cp\\checkpoint.ckpt\n",
      "164/164 [==============================] - 49s 299ms/step - loss: 0.3553 - accuracy: 0.9331 - val_loss: 0.7005 - val_accuracy: 0.7959\n",
      "Epoch 66/100\n",
      "164/164 [==============================] - ETA: 0s - loss: 0.3512 - accuracy: 0.9334\n",
      "Epoch 66: saving model to ./training_cp\\checkpoint.ckpt\n",
      "164/164 [==============================] - 49s 298ms/step - loss: 0.3512 - accuracy: 0.9334 - val_loss: 0.6902 - val_accuracy: 0.8002\n",
      "Epoch 67/100\n",
      "164/164 [==============================] - ETA: 0s - loss: 0.3467 - accuracy: 0.9356\n",
      "Epoch 67: saving model to ./training_cp\\checkpoint.ckpt\n",
      "164/164 [==============================] - 49s 299ms/step - loss: 0.3467 - accuracy: 0.9356 - val_loss: 0.6887 - val_accuracy: 0.8012\n",
      "Epoch 68/100\n",
      "164/164 [==============================] - ETA: 0s - loss: 0.3430 - accuracy: 0.9363\n",
      "Epoch 68: saving model to ./training_cp\\checkpoint.ckpt\n",
      "164/164 [==============================] - 49s 299ms/step - loss: 0.3430 - accuracy: 0.9363 - val_loss: 0.6957 - val_accuracy: 0.7989\n",
      "Epoch 69/100\n",
      "164/164 [==============================] - ETA: 0s - loss: 0.3397 - accuracy: 0.9374\n",
      "Epoch 69: saving model to ./training_cp\\checkpoint.ckpt\n",
      "164/164 [==============================] - 49s 298ms/step - loss: 0.3397 - accuracy: 0.9374 - val_loss: 0.6950 - val_accuracy: 0.7961\n",
      "Epoch 70/100\n",
      "164/164 [==============================] - ETA: 0s - loss: 0.3354 - accuracy: 0.9393\n",
      "Epoch 70: saving model to ./training_cp\\checkpoint.ckpt\n",
      "164/164 [==============================] - 49s 299ms/step - loss: 0.3354 - accuracy: 0.9393 - val_loss: 0.6912 - val_accuracy: 0.7999\n",
      "Epoch 71/100\n",
      "164/164 [==============================] - ETA: 0s - loss: 0.3323 - accuracy: 0.9413\n",
      "Epoch 71: saving model to ./training_cp\\checkpoint.ckpt\n",
      "164/164 [==============================] - 49s 298ms/step - loss: 0.3323 - accuracy: 0.9413 - val_loss: 0.6864 - val_accuracy: 0.7982\n",
      "Epoch 72/100\n",
      "164/164 [==============================] - ETA: 0s - loss: 0.3290 - accuracy: 0.9418\n",
      "Epoch 72: saving model to ./training_cp\\checkpoint.ckpt\n",
      "164/164 [==============================] - 49s 298ms/step - loss: 0.3290 - accuracy: 0.9418 - val_loss: 0.6891 - val_accuracy: 0.7994\n",
      "Epoch 73/100\n",
      "164/164 [==============================] - ETA: 0s - loss: 0.3271 - accuracy: 0.9424\n",
      "Epoch 73: saving model to ./training_cp\\checkpoint.ckpt\n",
      "164/164 [==============================] - 49s 297ms/step - loss: 0.3271 - accuracy: 0.9424 - val_loss: 0.6794 - val_accuracy: 0.8027\n",
      "Epoch 74/100\n",
      "164/164 [==============================] - ETA: 0s - loss: 0.3227 - accuracy: 0.9438\n",
      "Epoch 74: saving model to ./training_cp\\checkpoint.ckpt\n",
      "164/164 [==============================] - 49s 299ms/step - loss: 0.3227 - accuracy: 0.9438 - val_loss: 0.6807 - val_accuracy: 0.8010\n",
      "Epoch 75/100\n",
      "164/164 [==============================] - ETA: 0s - loss: 0.3209 - accuracy: 0.9435\n",
      "Epoch 75: saving model to ./training_cp\\checkpoint.ckpt\n",
      "164/164 [==============================] - 49s 299ms/step - loss: 0.3209 - accuracy: 0.9435 - val_loss: 0.6836 - val_accuracy: 0.8005\n",
      "Epoch 76/100\n",
      "164/164 [==============================] - ETA: 0s - loss: 0.3176 - accuracy: 0.9457\n",
      "Epoch 76: saving model to ./training_cp\\checkpoint.ckpt\n",
      "164/164 [==============================] - 49s 298ms/step - loss: 0.3176 - accuracy: 0.9457 - val_loss: 0.6803 - val_accuracy: 0.8020\n",
      "Epoch 77/100\n",
      "164/164 [==============================] - ETA: 0s - loss: 0.3127 - accuracy: 0.9465\n",
      "Epoch 77: saving model to ./training_cp\\checkpoint.ckpt\n",
      "164/164 [==============================] - 49s 299ms/step - loss: 0.3127 - accuracy: 0.9465 - val_loss: 0.6795 - val_accuracy: 0.8010\n",
      "Epoch 78/100\n",
      "164/164 [==============================] - ETA: 0s - loss: 0.3105 - accuracy: 0.9481\n",
      "Epoch 78: saving model to ./training_cp\\checkpoint.ckpt\n",
      "164/164 [==============================] - 49s 298ms/step - loss: 0.3105 - accuracy: 0.9481 - val_loss: 0.6779 - val_accuracy: 0.8020\n",
      "Epoch 79/100\n",
      "164/164 [==============================] - ETA: 0s - loss: 0.3084 - accuracy: 0.9479\n",
      "Epoch 79: saving model to ./training_cp\\checkpoint.ckpt\n",
      "164/164 [==============================] - 49s 299ms/step - loss: 0.3084 - accuracy: 0.9479 - val_loss: 0.6805 - val_accuracy: 0.8010\n",
      "Epoch 80/100\n",
      "164/164 [==============================] - ETA: 0s - loss: 0.3065 - accuracy: 0.9474\n",
      "Epoch 80: saving model to ./training_cp\\checkpoint.ckpt\n",
      "164/164 [==============================] - 49s 297ms/step - loss: 0.3065 - accuracy: 0.9474 - val_loss: 0.6815 - val_accuracy: 0.8035\n",
      "Epoch 81/100\n",
      "164/164 [==============================] - ETA: 0s - loss: 0.3023 - accuracy: 0.9498\n",
      "Epoch 81: saving model to ./training_cp\\checkpoint.ckpt\n",
      "164/164 [==============================] - 49s 296ms/step - loss: 0.3023 - accuracy: 0.9498 - val_loss: 0.6737 - val_accuracy: 0.8027\n",
      "Epoch 82/100\n",
      "164/164 [==============================] - ETA: 0s - loss: 0.2984 - accuracy: 0.9507\n",
      "Epoch 82: saving model to ./training_cp\\checkpoint.ckpt\n",
      "164/164 [==============================] - 49s 298ms/step - loss: 0.2984 - accuracy: 0.9507 - val_loss: 0.6731 - val_accuracy: 0.8015\n",
      "Epoch 83/100\n",
      "164/164 [==============================] - ETA: 0s - loss: 0.2968 - accuracy: 0.9510\n",
      "Epoch 83: saving model to ./training_cp\\checkpoint.ckpt\n",
      "164/164 [==============================] - 49s 296ms/step - loss: 0.2968 - accuracy: 0.9510 - val_loss: 0.6730 - val_accuracy: 0.8035\n",
      "Epoch 84/100\n",
      "164/164 [==============================] - ETA: 0s - loss: 0.2943 - accuracy: 0.9524\n",
      "Epoch 84: saving model to ./training_cp\\checkpoint.ckpt\n",
      "164/164 [==============================] - 49s 297ms/step - loss: 0.2943 - accuracy: 0.9524 - val_loss: 0.6799 - val_accuracy: 0.7982\n",
      "Epoch 85/100\n",
      "164/164 [==============================] - ETA: 0s - loss: 0.2912 - accuracy: 0.9526\n",
      "Epoch 85: saving model to ./training_cp\\checkpoint.ckpt\n",
      "164/164 [==============================] - 49s 297ms/step - loss: 0.2912 - accuracy: 0.9526 - val_loss: 0.6708 - val_accuracy: 0.8022\n",
      "Epoch 86/100\n",
      "164/164 [==============================] - ETA: 0s - loss: 0.2883 - accuracy: 0.9535\n",
      "Epoch 86: saving model to ./training_cp\\checkpoint.ckpt\n"
     ]
    },
    {
     "name": "stdout",
     "output_type": "stream",
     "text": [
      "164/164 [==============================] - 49s 298ms/step - loss: 0.2883 - accuracy: 0.9535 - val_loss: 0.6714 - val_accuracy: 0.8020\n",
      "Epoch 87/100\n",
      "164/164 [==============================] - ETA: 0s - loss: 0.2854 - accuracy: 0.9554\n",
      "Epoch 87: saving model to ./training_cp\\checkpoint.ckpt\n",
      "164/164 [==============================] - 50s 301ms/step - loss: 0.2854 - accuracy: 0.9554 - val_loss: 0.6703 - val_accuracy: 0.8048\n",
      "Epoch 88/100\n",
      "164/164 [==============================] - ETA: 0s - loss: 0.2846 - accuracy: 0.9552\n",
      "Epoch 88: saving model to ./training_cp\\checkpoint.ckpt\n",
      "164/164 [==============================] - 49s 297ms/step - loss: 0.2846 - accuracy: 0.9552 - val_loss: 0.6714 - val_accuracy: 0.8030\n",
      "Epoch 89/100\n",
      "164/164 [==============================] - ETA: 0s - loss: 0.2793 - accuracy: 0.9559\n",
      "Epoch 89: saving model to ./training_cp\\checkpoint.ckpt\n",
      "164/164 [==============================] - 49s 298ms/step - loss: 0.2793 - accuracy: 0.9559 - val_loss: 0.6668 - val_accuracy: 0.8025\n",
      "Epoch 90/100\n",
      "164/164 [==============================] - ETA: 0s - loss: 0.2792 - accuracy: 0.9563\n",
      "Epoch 90: saving model to ./training_cp\\checkpoint.ckpt\n",
      "164/164 [==============================] - 49s 298ms/step - loss: 0.2792 - accuracy: 0.9563 - val_loss: 0.6680 - val_accuracy: 0.8030\n",
      "Epoch 91/100\n",
      "164/164 [==============================] - ETA: 0s - loss: 0.2754 - accuracy: 0.9576\n",
      "Epoch 91: saving model to ./training_cp\\checkpoint.ckpt\n",
      "164/164 [==============================] - 49s 298ms/step - loss: 0.2754 - accuracy: 0.9576 - val_loss: 0.6716 - val_accuracy: 0.7994\n",
      "Epoch 92/100\n",
      "164/164 [==============================] - ETA: 0s - loss: 0.2727 - accuracy: 0.9581\n",
      "Epoch 92: saving model to ./training_cp\\checkpoint.ckpt\n",
      "164/164 [==============================] - 49s 296ms/step - loss: 0.2727 - accuracy: 0.9581 - val_loss: 0.6636 - val_accuracy: 0.8030\n",
      "Epoch 93/100\n",
      "164/164 [==============================] - ETA: 0s - loss: 0.2707 - accuracy: 0.9587\n",
      "Epoch 93: saving model to ./training_cp\\checkpoint.ckpt\n",
      "164/164 [==============================] - 49s 298ms/step - loss: 0.2707 - accuracy: 0.9587 - val_loss: 0.6672 - val_accuracy: 0.8050\n",
      "Epoch 94/100\n",
      "164/164 [==============================] - ETA: 0s - loss: 0.2682 - accuracy: 0.9598\n",
      "Epoch 94: saving model to ./training_cp\\checkpoint.ckpt\n",
      "164/164 [==============================] - 49s 299ms/step - loss: 0.2682 - accuracy: 0.9598 - val_loss: 0.6644 - val_accuracy: 0.8048\n",
      "Epoch 95/100\n",
      "164/164 [==============================] - ETA: 0s - loss: 0.2668 - accuracy: 0.9601\n",
      "Epoch 95: saving model to ./training_cp\\checkpoint.ckpt\n",
      "164/164 [==============================] - 49s 298ms/step - loss: 0.2668 - accuracy: 0.9601 - val_loss: 0.6648 - val_accuracy: 0.8050\n",
      "Epoch 96/100\n",
      "164/164 [==============================] - ETA: 0s - loss: 0.2635 - accuracy: 0.9607\n",
      "Epoch 96: saving model to ./training_cp\\checkpoint.ckpt\n",
      "164/164 [==============================] - 49s 298ms/step - loss: 0.2635 - accuracy: 0.9607 - val_loss: 0.6584 - val_accuracy: 0.8060\n",
      "Epoch 97/100\n",
      "164/164 [==============================] - ETA: 0s - loss: 0.2624 - accuracy: 0.9611\n",
      "Epoch 97: saving model to ./training_cp\\checkpoint.ckpt\n",
      "164/164 [==============================] - 49s 298ms/step - loss: 0.2624 - accuracy: 0.9611 - val_loss: 0.6612 - val_accuracy: 0.8048\n",
      "Epoch 98/100\n",
      "164/164 [==============================] - ETA: 0s - loss: 0.2592 - accuracy: 0.9618\n",
      "Epoch 98: saving model to ./training_cp\\checkpoint.ckpt\n",
      "164/164 [==============================] - 49s 297ms/step - loss: 0.2592 - accuracy: 0.9618 - val_loss: 0.6618 - val_accuracy: 0.8060\n",
      "Epoch 99/100\n",
      "164/164 [==============================] - ETA: 0s - loss: 0.2573 - accuracy: 0.9622\n",
      "Epoch 99: saving model to ./training_cp\\checkpoint.ckpt\n",
      "164/164 [==============================] - 49s 296ms/step - loss: 0.2573 - accuracy: 0.9622 - val_loss: 0.6642 - val_accuracy: 0.8048\n",
      "Epoch 100/100\n",
      "164/164 [==============================] - ETA: 0s - loss: 0.2557 - accuracy: 0.9630\n",
      "Epoch 100: saving model to ./training_cp\\checkpoint.ckpt\n",
      "164/164 [==============================] - 49s 297ms/step - loss: 0.2557 - accuracy: 0.9630 - val_loss: 0.6576 - val_accuracy: 0.8065\n"
     ]
    }
   ],
   "source": [
    "fitdata = classifier.fit(train_ds, epochs=100, batch_size=BATCH_SIZE, callbacks=[cp_callback, tensorboard_callback], validation_data=test_ds, validation_batch_size=BATCH_SIZE)"
   ]
  },
  {
   "cell_type": "code",
   "execution_count": 22,
   "id": "25024246",
   "metadata": {
    "scrolled": false
   },
   "outputs": [
    {
     "data": {
      "text/plain": [
       "Reusing TensorBoard on port 6006 (pid 12672), started 3:51:16 ago. (Use '!kill 12672' to kill it.)"
      ]
     },
     "metadata": {},
     "output_type": "display_data"
    },
    {
     "data": {
      "text/html": [
       "\n",
       "      <iframe id=\"tensorboard-frame-4afaa7366f3aeeef\" width=\"100%\" height=\"800\" frameborder=\"0\">\n",
       "      </iframe>\n",
       "      <script>\n",
       "        (function() {\n",
       "          const frame = document.getElementById(\"tensorboard-frame-4afaa7366f3aeeef\");\n",
       "          const url = new URL(\"/\", window.location);\n",
       "          const port = 6006;\n",
       "          if (port) {\n",
       "            url.port = port;\n",
       "          }\n",
       "          frame.src = url;\n",
       "        })();\n",
       "      </script>\n",
       "    "
      ],
      "text/plain": [
       "<IPython.core.display.HTML object>"
      ]
     },
     "metadata": {},
     "output_type": "display_data"
    }
   ],
   "source": [
    "%tensorboard --logdir logs/fit"
   ]
  },
  {
   "cell_type": "code",
   "execution_count": null,
   "id": "d8e83557",
   "metadata": {},
   "outputs": [],
   "source": []
  },
  {
   "cell_type": "code",
   "execution_count": 15,
   "id": "babdcf6c",
   "metadata": {},
   "outputs": [
    {
     "data": {
      "image/png": "[encoded data removed]",
      "text/plain": [
       "<Figure size 640x480 with 1 Axes>"
      ]
     },
     "metadata": {},
     "output_type": "display_data"
    }
   ],
   "source": [
    "x_axis = [i + 1 for i in range(len(fitdata.history['loss']))]\n",
    "\n",
    "plt.plot(x_axis, fitdata.history['loss'], 'r', label=\"model training loss\")\n",
    "plt.plot(x_axis, fitdata.history['val_loss'], 'b', label=\"validation loss\")\n",
    "plt.xlabel(\"epochs\")\n",
    "plt.ylabel(\"% loss\")\n",
    "plt.legend()\n",
    "plt.show()"
   ]
  },
  {
   "cell_type": "markdown",
   "id": "a1bdab07",
   "metadata": {},
   "source": [
    "# Deploying the model"
   ]
  },
  {
   "cell_type": "code",
   "execution_count": 21,
   "id": "704ed038",
   "metadata": {},
   "outputs": [
    {
     "name": "stdout",
     "output_type": "stream",
     "text": [
      "1/1 [==============================] - 0s 48ms/step\n"
     ]
    },
    {
     "data": {
      "text/plain": [
       "'golden_retriever'"
      ]
     },
     "execution_count": 21,
     "metadata": {},
     "output_type": "execute_result"
    }
   ],
   "source": [
    "image = tf.keras.utils.load_img(\"./goldret.jpg\")\n",
    "input_arr = tf.keras.utils.img_to_array(image)\n",
    "input_arr = np.array([input_arr])  # Convert single image to a batch.\n",
    "\n",
    "image_ds.class_names[np.argmax(classifier.predict(input_arr))]"
   ]
  }
 ],
 "metadata": {
  "kernelspec": {
   "display_name": "tensorflow-gpu",
   "language": "python",
   "name": "tensorflow-gpu"
  },
  "language_info": {
   "codemirror_mode": {
    "name": "ipython",
    "version": 3
   },
   "file_extension": ".py",
   "mimetype": "text/x-python",
   "name": "python",
   "nbconvert_exporter": "python",
   "pygments_lexer": "ipython3",
   "version": "3.9.6"
  }
 },
 "nbformat": 4,
 "nbformat_minor": 5
}
